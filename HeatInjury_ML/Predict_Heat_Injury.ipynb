{
 "cells": [
  {
   "cell_type": "code",
   "execution_count": 17,
   "id": "e0bcc952",
   "metadata": {},
   "outputs": [],
   "source": [
    "import pandas as pd\n",
    "import numpy as np\n",
    "import joblib\n",
    "from sklearn.model_selection import train_test_split\n",
    "from sklearn.linear_model import LinearRegression\n",
    "from sklearn import metrics\n"
   ]
  },
  {
   "cell_type": "code",
   "execution_count": 18,
   "id": "fe0b1cb7",
   "metadata": {},
   "outputs": [
    {
     "name": "stdout",
     "output_type": "stream",
     "text": [
      "env_temp accuracy: 0.9625985904742477\n",
      "env_humi accuracy: 0.9761670919599814\n"
     ]
    }
   ],
   "source": [
    "raw_env_data = pd.read_csv(\"raw_env_data.csv\")\n",
    "raw_temp = raw_env_data.iloc[:,0].values.reshape(-1, 1)\n",
    "raw_humi = raw_env_data.iloc[:,1].values.reshape(-1, 1)\n",
    "env_temp = raw_env_data.iloc[:,2].values.reshape(-1, 1)\n",
    "env_humi = raw_env_data.iloc[:,3].values.reshape(-1, 1)\n",
    "X = np.concatenate((raw_temp, raw_humi), axis = 1)\n",
    "\n",
    "def train_raw_to_env_model(X,Y1,Y2):\n",
    "    lm_temp = LinearRegression()\n",
    "    lm_humi = LinearRegression()\n",
    "    lm_temp.fit(X, Y1)\n",
    "    lm_humi.fit(X, Y2)\n",
    "    pred_env_temp = lm_temp.predict(X)\n",
    "    pred_env_humi = lm_humi.predict(X)\n",
    "    temp_acc = lm_temp.score(X, Y1)\n",
    "    humi_acc = lm_humi.score(X, Y2)\n",
    "    print(\"env_temp accuracy:\", temp_acc)\n",
    "    print(\"env_humi accuracy:\", humi_acc)\n",
    "    joblib.dump(lm_temp,\"./Predict_env_temp.pkl\")\n",
    "    joblib.dump(lm_temp,\"./Predict_env_humi.pkl\")\n",
    "\n",
    "train_raw_to_env_model(X,env_temp,env_humi)\n"
   ]
  },
  {
   "cell_type": "code",
   "execution_count": 19,
   "id": "cc98019e",
   "metadata": {},
   "outputs": [
    {
     "name": "stdout",
     "output_type": "stream",
     "text": [
      "Train accuracy: 0.9703356707892048\n",
      "Test accuracy: 0.968950458787886\n"
     ]
    }
   ],
   "source": [
    "weather_data = pd.read_csv(\"weather_data_1hr.csv\")\n",
    "temp = weather_data.iloc[:,5].values.reshape(-1, 1)\n",
    "humi = weather_data.iloc[:,15].values.reshape(-1, 1)\n",
    "press = weather_data.iloc[:,18].values.reshape(-1, 1)\n",
    "X = np.concatenate((temp, humi, press), axis = 1)\n",
    "Y = weather_data.iloc[:,30].values.reshape(-1, 1)\n",
    "\n",
    "def train_env_to_heat_index_model(X,Y):\n",
    "    X_train, X_test, Y_train, Y_test = train_test_split(X, Y, test_size = 0.01, random_state=0)\n",
    "    lm = LinearRegression()\n",
    "    lm.fit(X_train, Y_train)\n",
    "    Y_pred_train = lm.predict(X_train)\n",
    "    Y_pred_test = lm.predict(X_test)\n",
    "    train_acc = lm.score(X_train, Y_train)\n",
    "    test_acc = lm.score(X_test, Y_test)\n",
    "    print(\"Train accuracy:\", train_acc)\n",
    "    print(\"Test accuracy:\", test_acc)\n",
    "    joblib.dump(lm,\"./Predict_Heat_Injury.pkl\")\n",
    "    \n",
    "train_env_to_heat_index_model(X, Y)\n"
   ]
  },
  {
   "cell_type": "code",
   "execution_count": 43,
   "id": "539a8c00",
   "metadata": {},
   "outputs": [],
   "source": [
    "def convert_raw_into_env(raw_temp,raw_humi):\n",
    "    model_temp=joblib.load(filename=\"Predict_env_temp.pkl\")\n",
    "    model_humi=joblib.load(filename=\"Predict_env_humi.pkl\")\n",
    "    env_temp=model_temp.predict(np.concatenate((np.array(raw_temp).reshape(-1, 1),np.array(raw_humi).reshape(-1, 1)), axis = 1))\n",
    "    env_humi=model_humi.predict(np.concatenate((np.array(raw_temp).reshape(-1, 1),np.array(raw_humi).reshape(-1, 1)), axis = 1))\n",
    "    return env_temp, env_humi\n",
    "\n",
    "def predict_heat_index(tempC,humi,press):\n",
    "    \n",
    "    tempF=tempC*1.8+32\n",
    "    model=joblib.load(filename=\"Predict_Heat_Injury.pkl\")\n",
    "    feelLike=model.predict(np.concatenate((np.array(tempF).reshape(-1, 1),np.array(humi).reshape(-1, 1) , np.array(press).reshape(-1, 1)),axis = 1))\n",
    "    print(\"feels like:\",(feelLike[0][0]-32)/1.8)\n",
    "    return (feelLike[0][0]-32)/1.8\n",
    "\n",
    "def predict_heat_injury_risk_level(raw_tempC,raw_humi,press):\n",
    "    env_tempC, env_humi=convert_raw_into_env(raw_tempC,raw_humi)\n",
    "    feelLike=predict_heat_index(env_tempC,env_humi,press)\n",
    "    if (feelLike>52.2): return 4 #extremely dangerous\n",
    "    if (feelLike>39.4): return 3 #dangerous\n",
    "    if (feelLike>32.8): return 2 #warning\n",
    "    if (feelLike>26.7): return 1 #attention \n",
    "    return 0 # safe\n"
   ]
  },
  {
   "cell_type": "code",
   "execution_count": 44,
   "id": "56515929",
   "metadata": {},
   "outputs": [
    {
     "name": "stdout",
     "output_type": "stream",
     "text": [
      "feels like: 39.99621838447035\n",
      "risk level: dangerous\n"
     ]
    }
   ],
   "source": [
    "level=[\"safe\",\"attention\",\"warning\",\"dangerous\",\"extremely dangerous\"]\n",
    "print(\"risk level:\",level[predict_heat_injury_risk_level(36,90,1000)])\n"
   ]
  },
  {
   "cell_type": "code",
   "execution_count": null,
   "id": "61b7b00a",
   "metadata": {},
   "outputs": [],
   "source": []
  }
 ],
 "metadata": {
  "kernelspec": {
   "display_name": "Python 3",
   "language": "python",
   "name": "python3"
  },
  "language_info": {
   "codemirror_mode": {
    "name": "ipython",
    "version": 3
   },
   "file_extension": ".py",
   "mimetype": "text/x-python",
   "name": "python",
   "nbconvert_exporter": "python",
   "pygments_lexer": "ipython3",
   "version": "3.8.8"
  }
 },
 "nbformat": 4,
 "nbformat_minor": 5
}
