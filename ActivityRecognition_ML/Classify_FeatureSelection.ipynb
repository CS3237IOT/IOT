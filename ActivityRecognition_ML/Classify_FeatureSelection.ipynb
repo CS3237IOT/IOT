{
 "cells": [
  {
   "cell_type": "code",
   "execution_count": 149,
   "metadata": {},
   "outputs": [],
   "source": [
    "import pandas as pd\n",
    "import numpy as np\n",
    "from sklearn.ensemble import RandomForestClassifier\n",
    "from sklearn.model_selection import train_test_split\n",
    "from sklearn import metrics\n",
    "import joblib\n",
    "\n",
    "files = ['sensorTag_idle.csv', 'sensorTag_jumping.csv', 'sensorTag_pushup.csv', 'sensorTag_run.csv', 'sensorTag_situp.csv', 'sensorTag_walk.csv']\n",
    "\n",
    "thisdict = {\n",
    "  \"0\": \"idle\",\n",
    "  \"1\": \"jumping jack\",\n",
    "  \"2\": \"push-up\",\n",
    "  \"3\": \"running\",\n",
    "  \"4\": \"sit-up\",\n",
    "  \"5\": \"walking\"\n",
    "}\n",
    "\n",
    "def read_data(filename):\n",
    "    df = pd.read_csv(filename)\n",
    "    df = df.drop(['Time', 'Temperature', 'Humidity', 'Pressure_Millibars'], 1)\n",
    "    return df"
   ]
  },
  {
   "cell_type": "code",
   "execution_count": 150,
   "metadata": {},
   "outputs": [],
   "source": [
    "from scipy import signal\n",
    "\n",
    "temp_data = dict()\n",
    "sensors = ['hax', 'hay', 'haz', 'hgx', 'hgy', 'hgz']\n",
    "for i in range(len(files)):\n",
    "    temp_data[i] = dict()\n",
    "    temp_df = read_data(files[i])\n",
    "    for j in range(len(temp_df)//50):\n",
    "        temp = dict()\n",
    "        temp['hax'] = temp_df.iloc[j*50:(j+1)*50, 0]\n",
    "        temp['hay'] = temp_df.iloc[j*50:(j+1)*50, 1]\n",
    "        temp['haz'] = temp_df.iloc[j*50:(j+1)*50, 2]\n",
    "        temp['ham'] = ((temp['hax'].mul(temp['hax'])).add(temp['hay'].mul(temp['hay']))).add(temp['haz'].mul(temp['haz']))\n",
    "        \n",
    "        \n",
    "        temp['hgx'] = temp_df.iloc[j*50:(j+1)*50, 3]\n",
    "        temp['hgy'] = temp_df.iloc[j*50:(j+1)*50, 4]\n",
    "        temp['hgz'] = temp_df.iloc[j*50:(j+1)*50, 5]\n",
    "        temp['hgm'] = ((temp['hgx'].mul(temp['hgx'])).add(temp['hgy'].mul(temp['hgy']))).add(temp['hgz'].mul(temp['hgz']))\n",
    "        \"\"\"\n",
    "        temp['hmx'] = temp_df.iloc[j*50:(j+1)*50, 6]\n",
    "        temp['hmy'] = temp_df.iloc[j*50:(j+1)*50, 7]\n",
    "        temp['hmz'] = temp_df.iloc[j*50:(j+1)*50:, 8]\n",
    "        for sensor in sensors:\n",
    "            _, temp[sensor + '_Pxx_spec'] = signal.periodogram(temp[sensor], fs=10) # Estimate power spectral density using a periodogram\n",
    "            _, _, temp[sensor + '_Sxx_spec'] = signal.spectrogram(temp[sensor], fs=10, return_onesided=False) # Compute a spectrogram with consecutive Fourier transforms\n",
    "        \"\"\"\n",
    "        temp_data[i][j] = temp"
   ]
  },
  {
   "cell_type": "code",
   "execution_count": 151,
   "metadata": {},
   "outputs": [
    {
     "name": "stdout",
     "output_type": "stream",
     "text": [
      "'hax_mean', 'hax_max', 'hax_min', 'hax_median', 'hax_std', 'hax_var', 'hax_p10', 'hax_p25', 'hax_p75', 'hax_p90', 'hay_mean', 'hay_max', 'hay_min', 'hay_median', 'hay_std', 'hay_var', 'hay_p10', 'hay_p25', 'hay_p75', 'hay_p90', 'haz_mean', 'haz_max', 'haz_min', 'haz_median', 'haz_std', 'haz_var', 'haz_p10', 'haz_p25', 'haz_p75', 'haz_p90', 'ham_mean', 'ham_max', 'ham_min', 'ham_median', 'ham_std', 'ham_var', 'ham_p10', 'ham_p25', 'ham_p75', 'ham_p90', 'hgx_mean', 'hgx_max', 'hgx_min', 'hgx_median', 'hgx_std', 'hgx_var', 'hgx_p10', 'hgx_p25', 'hgx_p75', 'hgx_p90', 'hgy_mean', 'hgy_max', 'hgy_min', 'hgy_median', 'hgy_std', 'hgy_var', 'hgy_p10', 'hgy_p25', 'hgy_p75', 'hgy_p90', 'hgz_mean', 'hgz_max', 'hgz_min', 'hgz_median', 'hgz_std', 'hgz_var', 'hgz_p10', 'hgz_p25', 'hgz_p75', 'hgz_p90', 'hgm_mean', 'hgm_max', 'hgm_min', 'hgm_median', 'hgm_std', 'hgm_var', 'hgm_p10', 'hgm_p25', 'hgm_p75', 'hgm_p90', "
     ]
    }
   ],
   "source": [
    "data = []\n",
    "for i in range(6):\n",
    "    for j in range(len(temp_data[i])):\n",
    "        temp = dict()\n",
    "        for key, value in temp_data[i][j].items():\n",
    "            temp[key + '_mean'] = np.mean(value)\n",
    "            temp[key + '_max'] = np.max(value)\n",
    "            temp[key + '_min'] = np.min(value)\n",
    "            temp[key + '_median'] = np.median(value)\n",
    "            temp[key + '_std'] = np.std(value)\n",
    "            temp[key + '_var'] = np.var(value)\n",
    "            temp[key + '_p10'] = np.percentile(value, 10)\n",
    "            temp[key + '_p25'] = np.percentile(value, 25)\n",
    "            temp[key + '_p75'] = np.percentile(value, 75)\n",
    "            temp[key + '_p90'] = np.percentile(value, 90)\n",
    "        temp['activity'] = i\n",
    "        data.append(temp)\n",
    "        \n",
    "for key,value in temp_data[0][0].items():\n",
    "    print(\"'\" + key + \"_mean', \" + \"'\" + key + \"_max', \" + \"'\" + key + \"_min', \" + \"'\" + key + \"_median', \" +\n",
    "          \"'\" + key + \"_std', \" + \"'\" + key + \"_var', \" + \"'\" + key + \"_p10', \" + \"'\" + key + \"_p25', \" \n",
    "          + \"'\" + key + \"_p75', \" + \"'\" + key + \"_p90', \", end=\"\")"
   ]
  },
  {
   "cell_type": "code",
   "execution_count": 152,
   "metadata": {},
   "outputs": [
    {
     "name": "stdout",
     "output_type": "stream",
     "text": [
      "Train Accuracy: 1.0 \n",
      "Test Accuracy: 1.0 \n",
      "Precision: 1.0 \n",
      "Recall: 1.0\n"
     ]
    },
    {
     "data": {
      "image/png": "[encoded data removed]",
      "text/plain": [
       "<Figure size 432x288 with 2 Axes>"
      ]
     },
     "metadata": {
      "needs_background": "light"
     },
     "output_type": "display_data"
    }
   ],
   "source": [
    "from sklearn.preprocessing import StandardScaler\n",
    "from sklearn.model_selection import train_test_split\n",
    "from sklearn.svm import LinearSVC\n",
    "from sklearn.metrics import plot_confusion_matrix\n",
    "import matplotlib.pyplot as plt\n",
    "from sklearn.metrics import precision_score\n",
    "from sklearn.metrics import recall_score\n",
    "from sklearn.multiclass import OneVsOneClassifier\n",
    "\n",
    "#Acuracy is 100% with hand + body sensor data, however sometimes there are wrong classifications for idle\n",
    "#Before adding idle to the model it was always 100%\n",
    "#Maybe we need more data for idle, also the data would likely be very different when standing/sitting etc.\n",
    "\n",
    "df = pd.DataFrame(data, columns=['hax_mean', 'hax_max', 'hax_min', 'hax_median', 'hax_std', 'hax_var', 'hax_p10', 'hax_p25', 'hax_p75', 'hax_p90', 'hay_mean', 'hay_max', 'hay_min', 'hay_median', 'hay_std', 'hay_var', 'hay_p10', 'hay_p25', 'hay_p75', 'hay_p90', 'haz_mean', 'haz_max', 'haz_min', 'haz_median', 'haz_std', 'haz_var', 'haz_p10', 'haz_p25', 'haz_p75', 'haz_p90', 'ham_mean', 'ham_max', 'ham_min', 'ham_median', 'ham_std', 'ham_var', 'ham_p10', 'ham_p25', 'ham_p75', 'ham_p90', 'hgx_mean', 'hgx_max', 'hgx_min', 'hgx_median', 'hgx_std', 'hgx_var', 'hgx_p10', 'hgx_p25', 'hgx_p75', 'hgx_p90', 'hgy_mean', 'hgy_max', 'hgy_min', 'hgy_median', 'hgy_std', 'hgy_var', 'hgy_p10', 'hgy_p25', 'hgy_p75', 'hgy_p90', 'hgz_mean', 'hgz_max', 'hgz_min', 'hgz_median', 'hgz_std', 'hgz_var', 'hgz_p10', 'hgz_p25', 'hgz_p75', 'hgz_p90', 'hgm_mean', 'hgm_max', 'hgm_min', 'hgm_median', 'hgm_std', 'hgm_var', 'hgm_p10', 'hgm_p25', 'hgm_p75', 'hgm_p90', 'activity'])\n",
    "\n",
    "X = df[['hax_mean', 'hax_max', 'hax_min', 'hax_median', 'hax_std', 'hax_var', 'hax_p10', 'hax_p25', 'hax_p75', 'hax_p90', 'hay_mean', 'hay_max', 'hay_min', 'hay_median', 'hay_std', 'hay_var', 'hay_p10', 'hay_p25', 'hay_p75', 'hay_p90', 'haz_mean', 'haz_max', 'haz_min', 'haz_median', 'haz_std', 'haz_var', 'haz_p10', 'haz_p25', 'haz_p75', 'haz_p90', 'ham_mean', 'ham_max', 'ham_min', 'ham_median', 'ham_std', 'ham_var', 'ham_p10', 'ham_p25', 'ham_p75', 'ham_p90', 'hgx_mean', 'hgx_max', 'hgx_min', 'hgx_median', 'hgx_std', 'hgx_var', 'hgx_p10', 'hgx_p25', 'hgx_p75', 'hgx_p90', 'hgy_mean', 'hgy_max', 'hgy_min', 'hgy_median', 'hgy_std', 'hgy_var', 'hgy_p10', 'hgy_p25', 'hgy_p75', 'hgy_p90', 'hgz_mean', 'hgz_max', 'hgz_min', 'hgz_median', 'hgz_std', 'hgz_var', 'hgz_p10', 'hgz_p25', 'hgz_p75', 'hgz_p90', 'hgm_mean', 'hgm_max', 'hgm_min', 'hgm_median', 'hgm_std', 'hgm_var', 'hgm_p10', 'hgm_p25', 'hgm_p75', 'hgm_p90']]\n",
    "\n",
    "scaler= StandardScaler()\n",
    "scaler.fit(X)\n",
    "X=scaler.transform(X)\n",
    "Y = df['activity']\n",
    "(X_train,X_test,Y_train,Y_test) = train_test_split(X, Y, test_size=0.3)\n",
    "\n",
    "clf = OneVsOneClassifier(LinearSVC(random_state=0))\n",
    "clf.fit(X_train, Y_train)\n",
    "Y_pred = clf.predict(X_test)\n",
    "\n",
    "train_acc = clf.score(X_train, Y_train)\n",
    "test_acc = clf.score(X_test, Y_test)\n",
    "precision = precision_score(Y_test, Y_pred, average='weighted')\n",
    "recall = recall_score(Y_test, Y_pred, average='weighted')\n",
    "\n",
    "print(\"Train Accuracy:\", train_acc, \"\\nTest Accuracy:\", test_acc, \"\\nPrecision:\", precision, \"\\nRecall:\", recall)\n",
    "\n",
    "plot_confusion_matrix(clf, X_test, Y_test)\n",
    "plt.show()"
   ]
  },
  {
   "cell_type": "code",
   "execution_count": 153,
   "metadata": {},
   "outputs": [
    {
     "name": "stderr",
     "output_type": "stream",
     "text": [
      "C:\\Users\\bibi\\anaconda3\\lib\\site-packages\\sklearn\\utils\\validation.py:68: FutureWarning: Pass n_features_to_select=1 as keyword args. From version 0.25 passing these as positional arguments will result in an error\n",
      "  warnings.warn(\"Pass {} as keyword args. From version 0.25 \"\n"
     ]
    },
    {
     "name": "stdout",
     "output_type": "stream",
     "text": [
      "Num Features: 1\n",
      "Selected Features: [False False False False False False False  True False False False False\n",
      " False False False False False False False False False False False False\n",
      " False False False False False False False False False False False False\n",
      " False False False False False False False False False False False False\n",
      " False False False False False False False False False False False False\n",
      " False False False False False False False False False False False False\n",
      " False False False False False False False False]\n",
      "Feature Ranking: [16 30 22 10 42 56  7  1 24 27 12 21 23  3 50 68 28 19  8 18 36 32 69 17\n",
      " 58 76 61 29 39 49 78 63 20 53 59 74  9 38 77 71  4 34 33 13 47 64 11  6\n",
      " 40 54  5 52 43 31 73 66 48 14  2 44 25 37 15 45 46 72 65 70 35 26 57 62\n",
      " 80 60 67 79 75 55 51 41]\n",
      "hax_p25\n",
      "hgy_p75\n",
      "hay_median\n",
      "hgx_mean\n",
      "hgy_mean\n",
      "hgx_p25\n",
      "hax_p10\n",
      "hay_p75\n",
      "ham_p10\n",
      "hax_median\n",
      "hgx_p10\n",
      "hay_mean\n",
      "hgx_median\n",
      "hgy_p25\n",
      "hgz_min\n",
      "hax_mean\n",
      "haz_median\n",
      "hay_p90\n",
      "hay_p25\n",
      "ham_min\n",
      "hay_max\n",
      "hax_min\n",
      "hay_min\n",
      "hax_p75\n",
      "hgz_mean\n",
      "hgz_p90\n",
      "hax_p90\n",
      "hay_p10\n",
      "haz_p25\n",
      "hax_max\n",
      "hgy_median\n",
      "haz_max\n",
      "hgx_min\n",
      "hgx_max\n",
      "hgz_p75\n",
      "haz_mean\n",
      "hgz_max\n",
      "ham_p25\n",
      "haz_p75\n",
      "hgx_p75\n",
      "hgm_p90\n",
      "hax_std\n",
      "hgy_min\n",
      "hgy_p90\n",
      "hgz_median\n",
      "hgz_std\n",
      "hgx_std\n",
      "hgy_p10\n",
      "haz_p90\n",
      "hay_std\n",
      "hgm_p75\n",
      "hgy_max\n",
      "ham_median\n",
      "hgx_p90\n",
      "hgm_p25\n",
      "hax_var\n",
      "hgm_mean\n",
      "haz_std\n",
      "ham_std\n",
      "hgm_median\n",
      "haz_p10\n",
      "hgm_max\n",
      "ham_max\n",
      "hgx_var\n",
      "hgz_p10\n",
      "hgy_var\n",
      "hgm_std\n",
      "hay_var\n",
      "haz_min\n",
      "hgz_p25\n",
      "ham_p90\n",
      "hgz_var\n",
      "hgy_std\n",
      "ham_var\n",
      "hgm_p10\n",
      "haz_var\n",
      "ham_p75\n",
      "ham_mean\n",
      "hgm_var\n",
      "'hax_p25', 'hgy_p75', 'hay_median', 'hgx_mean', 'hgy_mean', 'hgx_p25', 'hax_p10', 'hay_p75', 'ham_p10', 'hax_median', 'hgx_p10', 'hay_mean', 'hgx_median', 'hgy_p25', 'hgz_min', 'hax_mean', 'haz_median', 'hay_p90', 'hay_p25', 'ham_min', "
     ]
    }
   ],
   "source": [
    "from sklearn.feature_selection import RFE\n",
    "from sklearn.linear_model import LogisticRegression\n",
    "\n",
    "# Feature extraction\n",
    "logregression = LogisticRegression()\n",
    "rfe = RFE(logregression, 1)\n",
    "fit = rfe.fit(X, Y)\n",
    "print(\"Num Features: %s\" % (fit.n_features_))\n",
    "print(\"Selected Features: %s\" % (fit.support_))\n",
    "print(\"Feature Ranking: %s\" % (fit.ranking_))\n",
    "rank_list = list(fit.ranking_)\n",
    "for i in range(1,len(fit.ranking_)):\n",
    "    print(df.columns[rank_list.index(i)])\n",
    "    \n",
    "for i in range(1,21):\n",
    "    print(\"'\" + df.columns[rank_list.index(i)] + \"', \", end=\"\")"
   ]
  },
  {
   "cell_type": "code",
   "execution_count": 154,
   "metadata": {},
   "outputs": [],
   "source": [
    "def model(data):\n",
    "    X=data[['hax_p25', 'hgy_p75', 'hay_median', 'hgx_mean', 'hgy_mean', 'hgx_p25', 'hax_p10', 'hay_p75', 'ham_p10', 'hax_median', 'hgx_p10', 'hay_mean', 'hgx_median', 'hgy_p25', 'hgz_min', 'hax_mean', 'haz_median', 'hay_p90', 'hay_p25', 'ham_min']]  # Features\n",
    "    scaler= StandardScaler()\n",
    "    scaler.fit(X)\n",
    "    X=scaler.transform(X)\n",
    "    #X=data[['mag_accelerate','mag_Gyroscope','mag_Magnet']]\n",
    "    y=data['activity']  # Labels\n",
    "    # Split dataset into training set and test set\n",
    "    X_train, X_test, y_train, y_test = train_test_split(X, y, test_size=0.3) # 70% training and 30% test\n",
    "    \n",
    "    #Create a Gaussian Classifier\n",
    "    #clf=RandomForestClassifier(n_estimators=10)\n",
    "    \n",
    "    clf = OneVsOneClassifier(LinearSVC(random_state=0))\n",
    "    \n",
    "    \n",
    "    #Train the model using the training sets y_pred=clf.predict(X_test)\n",
    "    clf.fit(X_train,y_train)\n",
    "    y_pred=clf.predict(X_test)\n",
    "    #Import scikit-learn metrics module for accuracy calculation\n",
    "    # Model Accuracy, how often is the classifier correct?\n",
    "    print(\"Accuracy:\", metrics.accuracy_score(y_test, y_pred))\n",
    "    joblib.dump(clf, \"./onevsonelinearsvc.joblib\")"
   ]
  },
  {
   "cell_type": "code",
   "execution_count": 156,
   "metadata": {},
   "outputs": [
    {
     "name": "stdout",
     "output_type": "stream",
     "text": [
      "Accuracy: 1.0\n"
     ]
    }
   ],
   "source": [
    "top20_df = df[['hax_p25', 'hgy_p75', 'hay_median', 'hgx_mean', 'hgy_mean', 'hgx_p25', 'hax_p10', 'hay_p75', 'ham_p10', 'hax_median', 'hgx_p10', 'hay_mean', 'hgx_median', 'hgy_p25', 'hgz_min', 'hax_mean', 'haz_median', 'hay_p90', 'hay_p25', 'ham_min', 'activity']]\n",
    "\n",
    "model(top20_df)"
   ]
  },
  {
   "cell_type": "code",
   "execution_count": null,
   "metadata": {},
   "outputs": [],
   "source": []
  }
 ],
 "metadata": {
  "kernelspec": {
   "display_name": "Python 3",
   "language": "python",
   "name": "python3"
  },
  "language_info": {
   "codemirror_mode": {
    "name": "ipython",
    "version": 3
   },
   "file_extension": ".py",
   "mimetype": "text/x-python",
   "name": "python",
   "nbconvert_exporter": "python",
   "pygments_lexer": "ipython3",
   "version": "3.8.3"
  }
 },
 "nbformat": 4,
 "nbformat_minor": 4
}
