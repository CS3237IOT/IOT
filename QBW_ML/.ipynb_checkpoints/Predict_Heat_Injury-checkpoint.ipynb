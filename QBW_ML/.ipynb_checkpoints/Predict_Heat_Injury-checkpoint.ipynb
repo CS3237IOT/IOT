{
 "cells": [
  {
   "cell_type": "code",
   "execution_count": 52,
   "id": "e0bcc952",
   "metadata": {},
   "outputs": [],
   "source": [
    "import pandas as pd\n",
    "import numpy as np\n",
    "import joblib\n",
    "from sklearn.model_selection import train_test_split\n",
    "from sklearn.linear_model import LinearRegression\n",
    "from sklearn import metrics\n",
    "\n",
    "data = pd.read_csv(\"weather_data_1hr.csv\")\n",
    "X1 = data.iloc[:,5].values.reshape(-1, 1)\n",
    "X2 = data.iloc[:,15].values.reshape(-1, 1)\n",
    "X3 = data.iloc[:,18].values.reshape(-1, 1)\n",
    "Y = data.iloc[:,30].values.reshape(-1, 1)\n"
   ]
  },
  {
   "cell_type": "code",
   "execution_count": 53,
   "id": "fe0b1cb7",
   "metadata": {},
   "outputs": [
    {
     "name": "stdout",
     "output_type": "stream",
     "text": [
      "\n",
      "Model using temp, humi, press:\n",
      "Train accuracy: 0.9703356707892048\n",
      "Test accuracy: 0.968950458787886\n"
     ]
    }
   ],
   "source": [
    "\n",
    "def train_model_1(X, Y):\n",
    "    X_train, X_test, Y_train, Y_test = train_test_split(X, Y, test_size = 0.01, random_state=0)\n",
    "    lm = LinearRegression()\n",
    "    lm.fit(X_train, Y_train)\n",
    "    Y_pred_train = lm.predict(X_train)\n",
    "    Y_pred_test = lm.predict(X_test)\n",
    "    train_acc = lm.score(X_train, Y_train)\n",
    "    test_acc = lm.score(X_test, Y_test)\n",
    "    print(\"Train accuracy:\", train_acc)\n",
    "    print(\"Test accuracy:\", test_acc)\n",
    "    joblib.dump(lm,\"./Predict_Heat_Injury.pkl\")\n",
    "\n",
    "\n",
    "# print(\"Model using temp:\")\n",
    "# X = X1\n",
    "# train(X, Y)\n",
    "\n",
    "# print(\"\\nModel using temp, humi:\")\n",
    "# X = np.concatenate((X1, X2), axis = 1)\n",
    "# train(X, Y)\n",
    "\n",
    "print(\"\\nModel using temp, humi, press:\")\n",
    "X = np.concatenate((X1, X2, X3), axis = 1)\n",
    "train_model_1(X, Y)\n",
    "\n"
   ]
  },
  {
   "cell_type": "code",
   "execution_count": 54,
   "id": "cc98019e",
   "metadata": {},
   "outputs": [
    {
     "name": "stdout",
     "output_type": "stream",
     "text": [
      "46.59084973738375\n",
      "3\n"
     ]
    }
   ],
   "source": [
    "def train\n",
    "\n"
   ]
  },
  {
   "cell_type": "code",
   "execution_count": null,
   "id": "539a8c00",
   "metadata": {},
   "outputs": [],
   "source": [
    "def predictFeelLike(tempC,humi,press):\n",
    "    tempF=tempC*1.8+32\n",
    "    model=joblib.load(filename=\"Pridict_Heat_Injury.pkl\")\n",
    "    feelLike=model.predict(np.concatenate((np.array(tempF).reshape(-1, 1),np.array(humi).reshape(-1, 1) , np.array(press).reshape(-1, 1)),axis = 1))\n",
    "    print((feelLike[0][0]-32)/1.8)\n",
    "    return (feelLike[0][0]-32)/1.8\n",
    "\n",
    "def predictHeatInjury(tempC,humi,press):\n",
    "    feelLike=predictFeelLike(tempC,humi,press)\n",
    "    if (feelLike>52.2): return 4\n",
    "    if (feelLike>39.4): return 3\n",
    "    if (feelLike>32.8): return 2\n",
    "    if (feelLike>26.7): return 1\n",
    "    return 0\n",
    "\n",
    "print(predictHeatInjury(37.8,45,1000))"
   ]
  },
  {
   "cell_type": "code",
   "execution_count": null,
   "id": "56515929",
   "metadata": {},
   "outputs": [],
   "source": [
    "\n"
   ]
  }
 ],
 "metadata": {
  "kernelspec": {
   "display_name": "Python 3",
   "language": "python",
   "name": "python3"
  },
  "language_info": {
   "codemirror_mode": {
    "name": "ipython",
    "version": 3
   },
   "file_extension": ".py",
   "mimetype": "text/x-python",
   "name": "python",
   "nbconvert_exporter": "python",
   "pygments_lexer": "ipython3",
   "version": "3.8.8"
  }
 },
 "nbformat": 4,
 "nbformat_minor": 5
}
